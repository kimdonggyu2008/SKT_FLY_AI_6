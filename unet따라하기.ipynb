{
  "nbformat": 4,
  "nbformat_minor": 0,
  "metadata": {
    "colab": {
      "provenance": [],
      "authorship_tag": "ABX9TyPdWZ3jJebub4FnMFmGiCxL",
      "include_colab_link": true
    },
    "kernelspec": {
      "name": "python3",
      "display_name": "Python 3"
    },
    "language_info": {
      "name": "python"
    }
  },
  "cells": [
    {
      "cell_type": "markdown",
      "metadata": {
        "id": "view-in-github",
        "colab_type": "text"
      },
      "source": [
        "<a href=\"https://colab.research.google.com/github/kimdonggyu2008/SKT_FLY_AI_6/blob/main/unet%EB%94%B0%EB%9D%BC%ED%95%98%EA%B8%B0.ipynb\" target=\"_parent\"><img src=\"https://colab.research.google.com/assets/colab-badge.svg\" alt=\"Open In Colab\"/></a>"
      ]
    },
    {
      "cell_type": "code",
      "execution_count": 24,
      "metadata": {
        "id": "qBcisc96q5gx"
      },
      "outputs": [],
      "source": [
        "import torch\n",
        "import torch.nn as nn\n",
        "import torch.optim as optim\n",
        "import numpy as np\n",
        "import matplotlib.pyplot as plt\n",
        "from skimage.draw import disk, rectangle"
      ]
    },
    {
      "cell_type": "code",
      "source": [
        "def create_image_with_shapes_and_labels(image_size=(256,256)):\n",
        "  image=np.zeros((*image_size,3),dtype=np.float32)\n",
        "  label=np.zeros(image_size,dtype=np.int64)\n",
        "\n",
        "  rr,cc=disk((64,64),40)\n",
        "  image[rr,cc,0]=1.0\n",
        "  label[rr,cc]=1\n",
        "\n",
        "  start=(120,120)\n",
        "  extent=(50,80)\n",
        "\n",
        "  rr,cc=rectangle(start,extent)\n",
        "  image[rr,cc,1]=1.0\n",
        "  label[rr,cc]=2\n",
        "\n",
        "  image = (image - image.min()) / (image.max() - image.min()) #정규화\n",
        "  return torch.tensor(image).permute(2, 0, 1), torch.tensor(label)"
      ],
      "metadata": {
        "id": "Jmzx1XAWq8XT"
      },
      "execution_count": 25,
      "outputs": []
    },
    {
      "cell_type": "code",
      "source": [
        "def double_conv(in_channels,out_channels):\n",
        "  return nn.Sequential(\n",
        "      nn.Conv2d(in_channels,out_channels,kernel_size=3,padding=1,bias=False),\n",
        "      nn.BatchNorm2d(out_channels),\n",
        "      nn.ReLU(inplace=True),\n",
        "      nn.Conv2d(out_channels,out_channels,kernel_size=3,padding=1,bias=False),\n",
        "      nn.BatchNorm2d(out_channels),\n",
        "      nn.ReLU(inplace=True)\n",
        "  )"
      ],
      "metadata": {
        "id": "3OaUlE0DreJp"
      },
      "execution_count": 26,
      "outputs": []
    },
    {
      "cell_type": "code",
      "source": [
        "class UNet(nn.Module):\n",
        "  def __init__(self,in_channels,out_channels):\n",
        "    super(UNet,self).__init__()\n",
        "\n",
        "    self.enc1=double_conv(in_channels,64)\n",
        "    self.enc2=double_conv(64,128)\n",
        "    self.enc3=double_conv(128,256)\n",
        "    self.enc4=double_conv(256,512)\n",
        "\n",
        "    self.bottleneck=double_conv(512,1024)\n",
        "\n",
        "    self.unconv4=nn.ConvTranspose2d(1024,512,kernel_size=2,stride=2)\n",
        "    self.dec4=double_conv(1024,512)\n",
        "\n",
        "    self.unconv3=nn.ConvTranspose2d(512,256,kernel_size=2,stride=2)\n",
        "    self.dec3=double_conv(512,256)\n",
        "\n",
        "    self.unconv2=nn.ConvTranspose2d(256,128,kernel_size=2,stride=2)\n",
        "    self.dec2=double_conv(256,128)\n",
        "\n",
        "\n",
        "    self.unconv1=nn.ConvTranspose2d(128,64,kernel_size=2,stride=2)\n",
        "    self.dec1=double_conv(128,64)\n",
        "\n",
        "    self.out_conv=nn.Conv2d(64,out_channels,kernel_size=1)\n",
        "\n",
        "\n",
        "  def forward(self,x):\n",
        "    enc1=self.enc1(x)\n",
        "    enc2=self.enc2(nn.MaxPool2d(kernel_size=2)(enc1))\n",
        "    enc3=self.enc3(nn.MaxPool2d(kernel_size=2)(enc2))\n",
        "    enc4=self.enc4(nn.MaxPool2d(kernel_size=2)(enc3))\n",
        "\n",
        "    bottleneck=self.bottleneck(nn.MaxPool2d(kernel_size=2)(enc4))\n",
        "\n",
        "    dec4=self.unconv4(bottleneck)\n",
        "    dec4=torch.cat((enc4,dec4),dim=1)\n",
        "    dec4=self.dec4(dec4)\n",
        "\n",
        "    dec3=self.unconv3(dec4)\n",
        "    dec3=torch.cat((enc3,dec3),dim=1)\n",
        "    dec3=self.dec3(dec3)\n",
        "\n",
        "    dec2=self.unconv2(dec3)\n",
        "    dec2=torch.cat((enc2,dec2),dim=1)\n",
        "    dec2=self.dec2(dec2)\n",
        "\n",
        "    dec1=self.unconv1(dec2)\n",
        "    dec1=torch.cat((enc1,dec1),dim=1)\n",
        "    dec1=self.dec1(dec1)\n",
        "\n",
        "    out=self.out_conv(dec1)\n",
        "    return out"
      ],
      "metadata": {
        "id": "nwrUV_K9r3YA"
      },
      "execution_count": 35,
      "outputs": []
    },
    {
      "cell_type": "code",
      "source": [
        "# Training loop\n",
        "def train_model(model, optimizer, criterion, num_epochs, input_image, ground_truth):\n",
        "    model.train() #학습모델\n",
        "    for epoch in range(num_epochs):\n",
        "        optimizer.zero_grad()\n",
        "\n",
        "        # Forward pass\n",
        "        outputs = model(input_image)#모델 예측값\n",
        "        loss = criterion(outputs, ground_truth.unsqueeze(0))  # Add batch dimension to ground_truth\n",
        "\n",
        "        # Backward pass\n",
        "        loss.backward()\n",
        "        optimizer.step()\n",
        "\n",
        "        print(f\"Epoch [{epoch + 1}/{num_epochs}], Loss: {loss.item():.4f}\")\n",
        "\n",
        "    print(\"Training complete!\")"
      ],
      "metadata": {
        "id": "MY7yC6MbtOsK"
      },
      "execution_count": 36,
      "outputs": []
    },
    {
      "cell_type": "code",
      "source": [
        "# Visualization of results\n",
        "def visualize_results(input_image, output_prediction, ground_truth=None):\n",
        "    input_image = input_image.squeeze().permute(1, 2, 0).cpu().numpy()  # Convert to HWC\n",
        "    output_prediction = torch.argmax(output_prediction, dim=1).squeeze().cpu().numpy()  # Convert to label map\n",
        "    if ground_truth is not None:\n",
        "        ground_truth = ground_truth.cpu().numpy()\n",
        "\n",
        "    # Plot the images\n",
        "    fig, ax = plt.subplots(1, 3, figsize=(15, 5))\n",
        "    ax[0].imshow(input_image)\n",
        "    ax[0].set_title(\"Input Image\")\n",
        "    ax[0].axis(\"off\")\n",
        "\n",
        "    ax[1].imshow(output_prediction, cmap=\"jet\")\n",
        "    ax[1].set_title(\"Model Prediction\")\n",
        "    ax[1].axis(\"off\")\n",
        "\n",
        "    if ground_truth is not None:\n",
        "        ax[2].imshow(ground_truth, cmap=\"jet\")\n",
        "        ax[2].set_title(\"Ground Truth\")\n",
        "        ax[2].axis(\"off\")\n",
        "\n",
        "    plt.tight_layout()\n",
        "    plt.show()"
      ],
      "metadata": {
        "id": "rQko2NjVtVQ3"
      },
      "execution_count": 37,
      "outputs": []
    },
    {
      "cell_type": "code",
      "source": [
        "# Example usage\n",
        "if __name__ == \"__main__\":\n",
        "    # Create synthetic data\n",
        "    input_image, ground_truth = create_image_with_shapes_and_labels()\n",
        "    input_image = input_image.unsqueeze(0)  # Add batch dimension\n",
        "    ground_truth = ground_truth  # (H, W)\n",
        "\n",
        "    # Instantiate U-Net model\n",
        "    num_classes = 3  # Background, Circle, Rectangle\n",
        "    #model = UNet(in_channels=3, out_channels=num_classes)\n",
        "    device = torch.device(\"cuda\" if torch.cuda.is_available() else \"cpu\")\n",
        "    model = UNet(in_channels=3, out_channels=num_classes).to(device)\n",
        "    input_image = input_image.to(device)\n",
        "    ground_truth = ground_truth.to(device)\n",
        "\n",
        "\n",
        "    # Define loss and optimizer\n",
        "    criterion = nn.CrossEntropyLoss()\n",
        "    optimizer = optim.Adam(model.parameters(), lr=0.001)\n",
        "\n",
        "    # Train the model\n",
        "    train_model(model, optimizer, criterion, num_epochs=10, input_image=input_image, ground_truth=ground_truth)\n",
        "\n",
        "    # Evaluate the model\n",
        "    model.eval()\n",
        "    with torch.no_grad():\n",
        "        output_prediction = model(input_image)\n",
        "\n",
        "    # Visualize results\n",
        "    visualize_results(input_image.squeeze(), output_prediction, ground_truth)"
      ],
      "metadata": {
        "colab": {
          "base_uri": "https://localhost:8080/",
          "height": 439
        },
        "id": "5Z94Ho9StQCN",
        "outputId": "86c24b87-2c12-4cb9-a29d-e8c84acf70b4"
      },
      "execution_count": 38,
      "outputs": [
        {
          "output_type": "stream",
          "name": "stdout",
          "text": [
            "Epoch [1/10], Loss: 1.2367\n",
            "Epoch [2/10], Loss: 0.8638\n",
            "Epoch [3/10], Loss: 0.7396\n",
            "Epoch [4/10], Loss: 0.7094\n",
            "Epoch [5/10], Loss: 0.6904\n",
            "Epoch [6/10], Loss: 0.6750\n",
            "Epoch [7/10], Loss: 0.6573\n",
            "Epoch [8/10], Loss: 0.6391\n",
            "Epoch [9/10], Loss: 0.6181\n",
            "Epoch [10/10], Loss: 0.5974\n",
            "Training complete!\n"
          ]
        },
        {
          "output_type": "display_data",
          "data": {
            "text/plain": [
              "<Figure size 1500x500 with 3 Axes>"
            ],
            "image/png": "[encoded data removed]"
          },
          "metadata": {}
        }
      ]
    },
    {
      "cell_type": "code",
      "source": [],
      "metadata": {
        "id": "t9D5VciStXyB"
      },
      "execution_count": 38,
      "outputs": []
    }
  ]
}